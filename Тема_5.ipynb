{
  "nbformat": 4,
  "nbformat_minor": 0,
  "metadata": {
    "colab": {
      "provenance": [],
      "authorship_tag": "ABX9TyNC8uyNVr3OGIn+2qgQdNHL"
    },
    "kernelspec": {
      "name": "python3",
      "display_name": "Python 3"
    },
    "language_info": {
      "name": "python"
    }
  },
  "cells": [
    {
      "cell_type": "code",
      "execution_count": null,
      "metadata": {
        "id": "RzX1Uz8FqHS0"
      },
      "outputs": [],
      "source": [
        "import csv\n",
        "\n",
        "purchase_log_file = 'purchase_log.txt'\n",
        "visit_log_file = 'visit_log_1_.csv'\n",
        "output_file = 'final.csv'\n",
        "\n",
        "# Создаем словарь для хранения данных о покупках\n",
        "purchase_dict = {}\n",
        "\n",
        "# Читаем данные из файла purchase_log.txt и заполняем словарь\n",
        "with open(purchase_log_file, 'r', encoding='utf-8') as f:\n",
        "    reader = txt.DictReader(f)\n",
        "    for row in reader:\n",
        "        user_id = row['user_id']\n",
        "        category = row['category']\n",
        "        purchase_dict[user_id] = category\n",
        "\n",
        "# Открываем файл для записи результатов\n",
        "with open(output_file, 'w', encoding='utf-8', newline='') as out_f:\n",
        "    writer = csv.writer(out_f)\n",
        "    # Записываем заголовок\n",
        "    writer.writerow(['user_id', 'source', 'category'])\n",
        "\n",
        "    # Читаем данные из файла visit_log_1_.csv\n",
        "    with open(visit_log_file, 'r', encoding='utf-8') as in_f:\n",
        "        reader = csv.DictReader(in_f)\n",
        "        for row in reader:\n",
        "            user_id = row['user_id']\n",
        "            source = row['source']\n",
        "            # Проверяем, есть ли user_id в словаре покупок\n",
        "            if user_id in purchase_dict:\n",
        "                # Если покупка есть, записываем строку в выходной файл\n",
        "                writer.writerow([user_id, source, purchase_dict[user_id]])\n",
        "\n",
        "print(\"Обработка завершена, результат сохранен в файл final.csv\")\n"
      ]
    }
  ]
}