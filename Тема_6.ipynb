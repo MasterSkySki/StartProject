{
  "nbformat": 4,
  "nbformat_minor": 0,
  "metadata": {
    "colab": {
      "provenance": [],
      "authorship_tag": "ABX9TyOSjztNVmzRkZtlU/PTy0X8"
    },
    "kernelspec": {
      "name": "python3",
      "display_name": "Python 3"
    },
    "language_info": {
      "name": "python"
    }
  },
  "cells": [
    {
      "cell_type": "code",
      "source": [
        "import pandas as pd\n",
        "\n",
        "# Загрузка данных из CSV-файла\n",
        "csv_file_path = '/content/web_clients_correct_доп_материал_к_тема_6__7__итоговое_задание.csv'\n",
        "df = pd.read_csv(csv_file_path)\n",
        "\n",
        "# Функция для анализа возраста\n",
        "def analyze_age(age):\n",
        "    if age > 25:\n",
        "        return \"Старше 25\"\n",
        "    else:\n",
        "        return \"Младше или равен 25\"\n",
        "\n",
        "# Применить классификацию возраста к столбцу 'age'\n",
        "df['age_category'] = df['age'].apply(analyze_age)\n",
        "\n",
        "# Вывод первых 15 строк данных\n",
        "print(df.head(15))"
      ],
      "metadata": {
        "colab": {
          "base_uri": "https://localhost:8080/"
        },
        "id": "TNgryH9HuidX",
        "outputId": "5588e9da-328b-40c9-d453-61c21af02dec"
      },
      "execution_count": 9,
      "outputs": [
        {
          "output_type": "stream",
          "name": "stdout",
          "text": [
            "                                                 name device_type  \\\n",
            "0                       Allen  Miss. Elisabeth Walton      mobile   \n",
            "1                      Allison  Master. Hudson Trevor      tablet   \n",
            "2                        Allison  Miss. Helen Loraine      laptop   \n",
            "3                Allison  Mr. Hudson Joshua Creighton     desktop   \n",
            "4     Allison  Mrs. Hudson J C (Bessie Waldo Daniels)      laptop   \n",
            "5                                 Anderson  Mr. Harry      mobile   \n",
            "6                   Andrews  Miss. Kornelia Theodosia      mobile   \n",
            "7                              Andrews  Mr. Thomas Jr      tablet   \n",
            "8       Appleton  Mrs. Edward Dale (Charlotte Lamson)     desktop   \n",
            "9                             Artagaveytia  Mr. Ramon      mobile   \n",
            "10                             Astor  Col. John Jacob     desktop   \n",
            "11  Astor  Mrs. John Jacob (Madeleine Talmadge Force)      laptop   \n",
            "12                      Aubart  Mme. Leontine Pauline      tablet   \n",
            "13                       Barber  Miss. Ellen \"Nellie\"      mobile   \n",
            "14               Barkworth  Mr. Algernon Henry Wilson      laptop   \n",
            "\n",
            "              browser     sex   age  bill                           region  \\\n",
            "0              Chrome  female  29.0   885                     St Louis: MO   \n",
            "1               Opera    male  48.0   850  Montreal: PQ / Chesterville: ON   \n",
            "2             Firefox  female  48.0  1034  Montreal: PQ / Chesterville: ON   \n",
            "3   Internet Explorer    male  30.0   214  Montreal: PQ / Chesterville: ON   \n",
            "4             Firefox  female  25.0   993  Montreal: PQ / Chesterville: ON   \n",
            "5             Firefox    male  48.0   371                     New York: NY   \n",
            "6              Chrome  female  63.0  1126                       Hudson: NY   \n",
            "7   Internet Explorer    male  39.0   867                      Belfast: NI   \n",
            "8              Chrome  female  53.0   552              Bayside: Queens: NY   \n",
            "9             Firefox    male  71.0   926              Montevideo: Uruguay   \n",
            "10             Chrome    male  47.0   100                     New York: NY   \n",
            "11              Opera  female  48.0   254                     New York: NY   \n",
            "12            Firefox  female  24.0   587                    Paris: France   \n",
            "13            Firefox  female  26.0  1009                                -   \n",
            "14             Chrome    male  80.0   723                    Hessle: Yorks   \n",
            "\n",
            "           age_category  \n",
            "0             Старше 25  \n",
            "1             Старше 25  \n",
            "2             Старше 25  \n",
            "3             Старше 25  \n",
            "4   Младше или равен 25  \n",
            "5             Старше 25  \n",
            "6             Старше 25  \n",
            "7             Старше 25  \n",
            "8             Старше 25  \n",
            "9             Старше 25  \n",
            "10            Старше 25  \n",
            "11            Старше 25  \n",
            "12  Младше или равен 25  \n",
            "13            Старше 25  \n",
            "14            Старше 25  \n"
          ]
        }
      ]
    },
    {
      "cell_type": "code",
      "source": [
        "import pandas as pd\n",
        "\n",
        "# Загрузка данных из CSV-файла\n",
        "csv_file_path = '/content/web_clients_correct_доп_материал_к_тема_6__7__итоговое_задание.csv'\n",
        "df = pd.read_csv(csv_file_path)\n",
        "\n",
        "# Отбор строк по нескольким условиям\n",
        "filtered_df = df[(df['sex'] == 'male') & (df['age'] > 30)]\n",
        "\n",
        "# Вывод отобранных строк\n",
        "print(filtered_df)"
      ],
      "metadata": {
        "colab": {
          "base_uri": "https://localhost:8080/"
        },
        "id": "C7nXrc3Wureg",
        "outputId": "45147e95-73a3-488b-fb29-7fd205a16383"
      },
      "execution_count": 11,
      "outputs": [
        {
          "output_type": "stream",
          "name": "stdout",
          "text": [
            "                                          name device_type            browser  \\\n",
            "1               Allison  Master. Hudson Trevor      tablet              Opera   \n",
            "5                          Anderson  Mr. Harry      mobile            Firefox   \n",
            "7                       Andrews  Mr. Thomas Jr      tablet  Internet Explorer   \n",
            "9                      Artagaveytia  Mr. Ramon      mobile            Firefox   \n",
            "10                      Astor  Col. John Jacob     desktop             Chrome   \n",
            "..                                         ...         ...                ...   \n",
            "900  Johnston  Master. William Arthur \"Willie\"     desktop             Chrome   \n",
            "902                     Johnston  Mr. Andrew G      tablet  Internet Explorer   \n",
            "905                          Jonsson  Mr. Carl     desktop            Firefox   \n",
            "909                        Jussila  Mr. Eiriik     desktop            Firefox   \n",
            "914          Karlsson  Mr. Julius Konrad Eugen      laptop              Opera   \n",
            "\n",
            "      sex   age  bill                           region  \n",
            "1    male  48.0   850  Montreal: PQ / Chesterville: ON  \n",
            "5    male  48.0   371                     New York: NY  \n",
            "7    male  39.0   867                      Belfast: NI  \n",
            "9    male  71.0   926              Montevideo: Uruguay  \n",
            "10   male  47.0   100                     New York: NY  \n",
            "..    ...   ...   ...                              ...  \n",
            "900  male  33.0   840                                -  \n",
            "902  male  33.0   762                                -  \n",
            "905  male  32.0  1136                                -  \n",
            "909  male  32.0   280                                -  \n",
            "914  male  33.0   798                                -  \n",
            "\n",
            "[374 rows x 7 columns]\n"
          ]
        }
      ]
    }
  ]
}